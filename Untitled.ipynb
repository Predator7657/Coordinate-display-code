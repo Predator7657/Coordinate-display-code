{
 "cells": [
  {
   "cell_type": "code",
   "execution_count": 4,
   "metadata": {},
   "outputs": [],
   "source": [
    "import cv2"
   ]
  },
  {
   "cell_type": "code",
   "execution_count": 2,
   "metadata": {},
   "outputs": [],
   "source": [
    "def click_event(event, x, y, flags, params):\n",
    "\n",
    "\t# checking for left mouse clicks\n",
    "\tif event == cv2.EVENT_LBUTTONDOWN:\n",
    "\n",
    "\t\t# displaying the coordinates\n",
    "\t\t# on the Shell\n",
    "\t\tprint(x,' ',y)\n",
    "\n",
    "\t\t# displaying the coordinates\n",
    "\t\t# on the image window\n",
    "\n",
    "\t\tfont = cv2.FONT_HERSHEY_SIMPLEX\n",
    "\t\tcv2.putText(img, str(x) + ',' +str(y), (x,y), font,1, (255, 0, 0), 2)\n",
    "\t\tcv2.imshow('image', img)\n",
    "\n",
    "\t# checking for right mouse clicks\t\n",
    "\tif event==cv2.EVENT_RBUTTONDOWN:\n",
    "\n",
    "\t\t# displaying the coordinates\n",
    "\t\t# on the Shell\n",
    "\t\tprint(x, ' ', y)\n",
    "\n",
    "\t\t# displaying the coordinates\n",
    "\t\t# on the image window\n",
    "\t\tfont = cv2.FONT_HERSHEY_SIMPLEX\n",
    "\t\tb = img[y, x, 0]\n",
    "\t\tg = img[y, x, 1]\n",
    "\t\tr = img[y, x, 2]\n",
    "\t\tcv2.putText(img, str(b) + ',' +str(g) + ',' + str(r),(x,y), font, 1,(255, 255, 0), 2)\n",
    "\t\tcv2.imshow('image', img)\n"
   ]
  },
  {
   "cell_type": "code",
   "execution_count": 8,
   "metadata": {},
   "outputs": [
    {
     "name": "stdout",
     "output_type": "stream",
     "text": [
      "353   221\n",
      "219   387\n"
     ]
    }
   ],
   "source": [
    "\n",
    "if __name__==\"__main__\": \n",
    "    img = cv2.imread('C:/Users/AMAN SINGH/Desktop/p2.jpeg', 1)\n",
    "    cv2.imshow('image', img)\n",
    "\n",
    "# setting mouse hadler for the image\n",
    "# and calling the click_event() function\n",
    "\n",
    "    cv2.setMouseCallback('image', click_event)\n",
    "\n",
    "# wait for a key to be pressed to exit\n",
    "    cv2.waitKey(0)\n",
    "\n",
    "# close the window\n",
    "    cv2.destroyAllWindows()"
   ]
  },
  {
   "cell_type": "code",
   "execution_count": null,
   "metadata": {},
   "outputs": [],
   "source": []
  },
  {
   "cell_type": "code",
   "execution_count": null,
   "metadata": {},
   "outputs": [],
   "source": []
  }
 ],
 "metadata": {
  "kernelspec": {
   "display_name": "Python 3",
   "language": "python",
   "name": "python3"
  },
  "language_info": {
   "codemirror_mode": {
    "name": "ipython",
    "version": 3
   },
   "file_extension": ".py",
   "mimetype": "text/x-python",
   "name": "python",
   "nbconvert_exporter": "python",
   "pygments_lexer": "ipython3",
   "version": "3.8.5"
  }
 },
 "nbformat": 4,
 "nbformat_minor": 4
}
